{
  "nbformat": 4,
  "nbformat_minor": 0,
  "metadata": {
    "colab": {
      "provenance": [],
      "authorship_tag": "ABX9TyOfJqgOvVAAHpmuJGGYGmjX",
      "include_colab_link": true
    },
    "kernelspec": {
      "name": "python3",
      "display_name": "Python 3"
    },
    "language_info": {
      "name": "python"
    }
  },
  "cells": [
    {
      "cell_type": "markdown",
      "metadata": {
        "id": "view-in-github",
        "colab_type": "text"
      },
      "source": [
        "<a href=\"https://colab.research.google.com/github/meenupannnu/Learn-Python/blob/main/Copy_of_ChallangeQuestion.ipynb\" target=\"_parent\"><img src=\"https://colab.research.google.com/assets/colab-badge.svg\" alt=\"Open In Colab\"/></a>"
      ]
    },
    {
      "cell_type": "code",
      "execution_count": null,
      "metadata": {
        "id": "UrYMQvVpwmnj"
      },
      "outputs": [],
      "source": [
        "import time\n",
        "t1=time.time()\n",
        "for i in range(100000):\n",
        "   for j in range(100000):\n",
        "       x=900\n",
        "t2=time.time()\n",
        "\n",
        "print(\"Total Time\",t2-t1)"
      ]
    }
  ]
}